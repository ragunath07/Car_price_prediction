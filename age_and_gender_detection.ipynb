{
  "nbformat": 4,
  "nbformat_minor": 0,
  "metadata": {
    "colab": {
      "name": "age and gender detection.ipynb",
      "provenance": [],
      "collapsed_sections": [],
      "mount_file_id": "1GWW1DHRoDpA9xmxhfwYKz2jMKdKcOrn7",
      "authorship_tag": "ABX9TyMomZMWK81Nl3sN3OfjVABJ",
      "include_colab_link": true
    },
    "kernelspec": {
      "name": "python3",
      "display_name": "Python 3"
    },
    "language_info": {
      "name": "python"
    },
    "accelerator": "GPU"
  },
  "cells": [
    {
      "cell_type": "markdown",
      "metadata": {
        "id": "view-in-github",
        "colab_type": "text"
      },
      "source": [
        "<a href=\"https://colab.research.google.com/github/ragunath07/Car_price_prediction/blob/main/age_and_gender_detection.ipynb\" target=\"_parent\"><img src=\"https://colab.research.google.com/assets/colab-badge.svg\" alt=\"Open In Colab\"/></a>"
      ]
    },
    {
      "cell_type": "markdown",
      "source": [
        "Using Image Data Generator multiple images are created through duplication,with the available images.\n"
      ],
      "metadata": {
        "id": "XPLKPWKJChmo"
      }
    },
    {
      "cell_type": "code",
      "execution_count": null,
      "metadata": {
        "id": "dkww1bu_4SAb"
      },
      "outputs": [],
      "source": [
        "from keras.preprocessing.image import ImageDataGenerator, array_to_img, img_to_array, load_img\n",
        "import os\n",
        "datagen = ImageDataGenerator(\n",
        "        rotation_range=40,\n",
        "        width_shift_range=0.2,\n",
        "        height_shift_range=0.2,\n",
        "        shear_range=0.2,\n",
        "        zoom_range=0.2,\n",
        "        horizontal_flip=True,\n",
        "        fill_mode='nearest')\n",
        "\n",
        "#path='/content/drive/MyDrive/dataset/age and gender/female/50+'\n",
        "for img in os.listdir(path):\n",
        "  img=os.path.join(path,img)\n",
        "  img=load_img(img)  \n",
        "  x = img_to_array(img) \n",
        "  x = x.reshape((1,) + x.shape)\n",
        "\n",
        "  i = 0\n",
        "  for batch in datagen.flow(x, batch_size=1,\n",
        "                            save_to_dir='/content/drive/MyDrive/dataset/Age dataset/50+',\n",
        "                            save_prefix='img', \n",
        "                            save_format='jpeg'):\n",
        "    i += 1\n",
        "    if i > 6:\n",
        "      break"
      ]
    },
    {
      "cell_type": "markdown",
      "source": [
        "Importing all the necessary libraries for the building of Neural Network."
      ],
      "metadata": {
        "id": "SvcpfaXzC5JH"
      }
    },
    {
      "cell_type": "code",
      "source": [
        "from tensorflow.keras.preprocessing.image import ImageDataGenerator\n",
        "import matplotlib.pyplot as plt\n",
        "import tensorflow as tf\n",
        "import numpy as np\n",
        "import cv2\n",
        "import os"
      ],
      "metadata": {
        "id": "Lt3EeXOH60od"
      },
      "execution_count": null,
      "outputs": []
    },
    {
      "cell_type": "markdown",
      "source": [
        "Processing the Gender Dataset for the better output of the model."
      ],
      "metadata": {
        "id": "xSkdRJHED7_B"
      }
    },
    {
      "cell_type": "code",
      "source": [
        "path='/content/drive/MyDrive/dataset/Gender dataset'    #path for the input file\n",
        "\n",
        "image_data_generator= ImageDataGenerator(rescale=1/255) #rescaling the image or normalisation\n",
        "train=tf.keras.preprocessing.image.DirectoryIterator(\n",
        "    path,                                               \n",
        "    image_data_generator,\n",
        "    target_size=(200,200),                               #resizing all the images in the range(200,200) \n",
        "    color_mode='rgb', \n",
        "    classes=['male','female'], \n",
        "    class_mode='binary',\n",
        "    batch_size=25, \n",
        "    shuffle=True\n",
        ")\n",
        "train.class_indices\n"
      ],
      "metadata": {
        "colab": {
          "base_uri": "https://localhost:8080/"
        },
        "id": "SI8Ds2EqKaOU",
        "outputId": "b810d433-762e-40d2-8328-caaa2c905479"
      },
      "execution_count": null,
      "outputs": [
        {
          "output_type": "stream",
          "name": "stdout",
          "text": [
            "Found 1263 images belonging to 2 classes.\n"
          ]
        },
        {
          "output_type": "execute_result",
          "data": {
            "text/plain": [
              "{'female': 1, 'male': 0}"
            ]
          },
          "metadata": {},
          "execution_count": 2
        }
      ]
    },
    {
      "cell_type": "markdown",
      "source": [
        "Building the Nueral Network"
      ],
      "metadata": {
        "id": "Eufa72QyJBPz"
      }
    },
    {
      "cell_type": "code",
      "source": [
        "model = tf.keras.Sequential([\n",
        "    tf.keras.layers.Conv2D(16, (3,3), activation=tf.nn.relu,input_shape=(200, 200, 3)),\n",
        "    tf.keras.layers.MaxPooling2D((2, 2)),\n",
        "    tf.keras.layers.Conv2D(32, (3,3),  activation=tf.nn.relu),\n",
        "    tf.keras.layers.MaxPooling2D((2, 2)),\n",
        "    tf.keras.layers.Conv2D(64, (3,3),  activation=tf.nn.relu),\n",
        "    tf.keras.layers.MaxPooling2D((2, 2)),\n",
        "    tf.keras.layers.Conv2D(128, (3,3), activation=tf.nn.relu),\n",
        "    tf.keras.layers.MaxPooling2D((2, 2)),\n",
        "    tf.keras.layers.Dropout(0.5),\n",
        "    tf.keras.layers.Flatten(),\n",
        "    tf.keras.layers.Dense(512, activation=tf.nn.relu),\n",
        "    tf.keras.layers.Dense(1,  activation=tf.nn.sigmoid)\n",
        "])    "
      ],
      "metadata": {
        "id": "dlfdvdArVcXk"
      },
      "execution_count": null,
      "outputs": []
    },
    {
      "cell_type": "code",
      "source": [
        "model.compile(loss='binary_crossentropy',optimizer='adam',metrics=['accuracy'])"
      ],
      "metadata": {
        "id": "X0YARziGV1Zr"
      },
      "execution_count": null,
      "outputs": []
    },
    {
      "cell_type": "code",
      "source": [
        "model.summary()"
      ],
      "metadata": {
        "colab": {
          "base_uri": "https://localhost:8080/"
        },
        "id": "_suuzVSCKONs",
        "outputId": "86b8adc3-6533-49c2-cf4d-596f8ebf9c89"
      },
      "execution_count": null,
      "outputs": [
        {
          "output_type": "stream",
          "name": "stdout",
          "text": [
            "Model: \"sequential\"\n",
            "_________________________________________________________________\n",
            " Layer (type)                Output Shape              Param #   \n",
            "=================================================================\n",
            " conv2d (Conv2D)             (None, 198, 198, 16)      448       \n",
            "                                                                 \n",
            " max_pooling2d (MaxPooling2D  (None, 99, 99, 16)       0         \n",
            " )                                                               \n",
            "                                                                 \n",
            " conv2d_1 (Conv2D)           (None, 97, 97, 32)        4640      \n",
            "                                                                 \n",
            " max_pooling2d_1 (MaxPooling  (None, 48, 48, 32)       0         \n",
            " 2D)                                                             \n",
            "                                                                 \n",
            " conv2d_2 (Conv2D)           (None, 46, 46, 64)        18496     \n",
            "                                                                 \n",
            " max_pooling2d_2 (MaxPooling  (None, 23, 23, 64)       0         \n",
            " 2D)                                                             \n",
            "                                                                 \n",
            " conv2d_3 (Conv2D)           (None, 21, 21, 128)       73856     \n",
            "                                                                 \n",
            " max_pooling2d_3 (MaxPooling  (None, 10, 10, 128)      0         \n",
            " 2D)                                                             \n",
            "                                                                 \n",
            " dropout (Dropout)           (None, 10, 10, 128)       0         \n",
            "                                                                 \n",
            " flatten (Flatten)           (None, 12800)             0         \n",
            "                                                                 \n",
            " dense (Dense)               (None, 512)               6554112   \n",
            "                                                                 \n",
            " dense_1 (Dense)             (None, 1)                 513       \n",
            "                                                                 \n",
            "=================================================================\n",
            "Total params: 6,652,065\n",
            "Trainable params: 6,652,065\n",
            "Non-trainable params: 0\n",
            "_________________________________________________________________\n"
          ]
        }
      ]
    },
    {
      "cell_type": "code",
      "source": [
        "history=model.fit(train,batch_size=10,epochs=15,verbose=1)"
      ],
      "metadata": {
        "colab": {
          "base_uri": "https://localhost:8080/"
        },
        "id": "dvLq8Q3vZOvT",
        "outputId": "e2a1e398-5a60-405f-bc23-ad1a77fdd536"
      },
      "execution_count": null,
      "outputs": [
        {
          "output_type": "stream",
          "name": "stdout",
          "text": [
            "Epoch 1/15\n",
            "51/51 [==============================] - 90s 2s/step - loss: 0.6762 - accuracy: 0.6223\n",
            "Epoch 2/15\n",
            "51/51 [==============================] - 54s 1s/step - loss: 0.6623 - accuracy: 0.6247\n",
            "Epoch 3/15\n",
            "51/51 [==============================] - 54s 1s/step - loss: 0.6215 - accuracy: 0.6413\n",
            "Epoch 4/15\n",
            "51/51 [==============================] - 53s 1s/step - loss: 0.6066 - accuracy: 0.6334\n",
            "Epoch 5/15\n",
            "51/51 [==============================] - 53s 1s/step - loss: 0.5546 - accuracy: 0.6928\n",
            "Epoch 6/15\n",
            "51/51 [==============================] - 55s 1s/step - loss: 0.5113 - accuracy: 0.7356\n",
            "Epoch 7/15\n",
            "51/51 [==============================] - 54s 1s/step - loss: 0.4716 - accuracy: 0.7625\n",
            "Epoch 8/15\n",
            "51/51 [==============================] - 54s 1s/step - loss: 0.4301 - accuracy: 0.7933\n",
            "Epoch 9/15\n",
            "51/51 [==============================] - 54s 1s/step - loss: 0.3879 - accuracy: 0.8147\n",
            "Epoch 10/15\n",
            "51/51 [==============================] - 54s 1s/step - loss: 0.3271 - accuracy: 0.8519\n",
            "Epoch 11/15\n",
            "51/51 [==============================] - 53s 1s/step - loss: 0.2616 - accuracy: 0.8892\n",
            "Epoch 12/15\n",
            "51/51 [==============================] - 53s 1s/step - loss: 0.2288 - accuracy: 0.9089\n",
            "Epoch 13/15\n",
            "51/51 [==============================] - 55s 1s/step - loss: 0.1487 - accuracy: 0.9430\n",
            "Epoch 14/15\n",
            "51/51 [==============================] - 53s 1s/step - loss: 0.1327 - accuracy: 0.9501\n",
            "Epoch 15/15\n",
            "51/51 [==============================] - 53s 1s/step - loss: 0.1012 - accuracy: 0.9604\n"
          ]
        }
      ]
    },
    {
      "cell_type": "markdown",
      "source": [
        "Saving the model as a Pickle file for the future usage"
      ],
      "metadata": {
        "id": "Sy6DBhZ2J-De"
      }
    },
    {
      "cell_type": "code",
      "source": [
        "import pickle\n",
        "with open('Gender_model.pkl', 'wb') as file:\n",
        "  pickle.dump(model, file)"
      ],
      "metadata": {
        "colab": {
          "base_uri": "https://localhost:8080/"
        },
        "id": "BluA-mY7Lnn8",
        "outputId": "b99d7911-670b-41f0-b930-0f77406fe343"
      },
      "execution_count": null,
      "outputs": [
        {
          "output_type": "stream",
          "name": "stdout",
          "text": [
            "INFO:tensorflow:Assets written to: ram://191b3307-702b-4c36-ae03-a0a941b777cc/assets\n"
          ]
        }
      ]
    },
    {
      "cell_type": "markdown",
      "source": [
        "Loss plot"
      ],
      "metadata": {
        "id": "ihceNMPUKHzs"
      }
    },
    {
      "cell_type": "code",
      "source": [
        "plt.plot(history.history['loss'])\n",
        "plt.title('Loss')\n",
        "plt.xlabel('epochs')\n",
        "plt.ylabel('loss')\n",
        "plt.show()"
      ],
      "metadata": {
        "colab": {
          "base_uri": "https://localhost:8080/",
          "height": 295
        },
        "id": "XLnZl2DbUyE2",
        "outputId": "5c819058-4b73-4f4a-e772-626c1dae0188"
      },
      "execution_count": null,
      "outputs": [
        {
          "output_type": "display_data",
          "data": {
            "image/png": "[encoded data removed]",
            "text/plain": [
              "<Figure size 432x288 with 1 Axes>"
            ]
          },
          "metadata": {
            "needs_background": "light"
          }
        }
      ]
    },
    {
      "cell_type": "markdown",
      "source": [
        "Accuracy plot"
      ],
      "metadata": {
        "id": "ILFhmtuyKK2d"
      }
    },
    {
      "cell_type": "code",
      "source": [
        "plt.plot(history.history['accuracy'])\n",
        "plt.title('Accuracy')\n",
        "plt.xlabel('epochs')\n",
        "plt.ylabel('accuracy')\n",
        "plt.show()\n"
      ],
      "metadata": {
        "colab": {
          "base_uri": "https://localhost:8080/",
          "height": 295
        },
        "id": "qYPFBUEWnTkI",
        "outputId": "e5b1ffb3-777a-460b-af6d-1481f24d1c65"
      },
      "execution_count": null,
      "outputs": [
        {
          "output_type": "display_data",
          "data": {
            "image/png": "[encoded data removed]",
            "text/plain": [
              "<Figure size 432x288 with 1 Axes>"
            ]
          },
          "metadata": {
            "needs_background": "light"
          }
        }
      ]
    },
    {
      "cell_type": "markdown",
      "source": [
        "Data processing of Age Dataset"
      ],
      "metadata": {
        "id": "ilXFHcDzMbNH"
      }
    },
    {
      "cell_type": "code",
      "source": [
        "path='/content/drive/MyDrive/dataset/Age dataset'\n",
        "age=image_data_generator.flow_from_directory(path,                          #path of the file\n",
        "                                             target_size=(200,200),         #image resizing\n",
        "                                             batch_size=30,\n",
        "                                             class_mode='categorical')\n",
        "age.class_indices"
      ],
      "metadata": {
        "colab": {
          "base_uri": "https://localhost:8080/"
        },
        "id": "L_SI4bPUMfM6",
        "outputId": "f406231b-9c89-40cc-cfe0-6f961f741b38"
      },
      "execution_count": null,
      "outputs": [
        {
          "output_type": "stream",
          "name": "stdout",
          "text": [
            "Found 2970 images belonging to 3 classes.\n"
          ]
        },
        {
          "output_type": "execute_result",
          "data": {
            "text/plain": [
              "{'30-50': 0, '50+': 1, 'below 30': 2}"
            ]
          },
          "metadata": {},
          "execution_count": 38
        }
      ]
    },
    {
      "cell_type": "markdown",
      "source": [
        "Model building"
      ],
      "metadata": {
        "id": "FLJO4riYMsIU"
      }
    },
    {
      "cell_type": "code",
      "source": [
        "model_age = tf.keras.Sequential([\n",
        "    tf.keras.layers.Conv2D(16, (3,3), activation=tf.nn.relu,input_shape=(200, 200, 3)),\n",
        "    tf.keras.layers.MaxPooling2D((2, 2)),\n",
        "    tf.keras.layers.Conv2D(32, (3,3),  activation=tf.nn.relu),\n",
        "    tf.keras.layers.MaxPooling2D((2, 2)),\n",
        "    tf.keras.layers.Conv2D(64, (3,3),  activation=tf.nn.relu),\n",
        "    tf.keras.layers.MaxPooling2D((2, 2)),\n",
        "    tf.keras.layers.Conv2D(128, (3,3), activation=tf.nn.relu),\n",
        "    tf.keras.layers.MaxPooling2D((2, 2)),\n",
        "    tf.keras.layers.Conv2D(128, (3,3), activation=tf.nn.relu),\n",
        "    tf.keras.layers.MaxPooling2D((2, 2)),\n",
        "    #tf.keras.layers.Dropout(0.5),\n",
        "    tf.keras.layers.Flatten(),\n",
        "    tf.keras.layers.Dense(512, activation=tf.nn.relu),\n",
        "    tf.keras.layers.Dense(3,activation=tf.nn.softmax)\n",
        "]) "
      ],
      "metadata": {
        "id": "mPwDj57xOYLd"
      },
      "execution_count": null,
      "outputs": []
    },
    {
      "cell_type": "code",
      "source": [
        "model_age.compile(loss='categorical_crossentropy',optimizer='adam',metrics='accuracy')"
      ],
      "metadata": {
        "id": "gwwDuitgOnRx"
      },
      "execution_count": null,
      "outputs": []
    },
    {
      "cell_type": "code",
      "source": [
        "model_age.summary()"
      ],
      "metadata": {
        "colab": {
          "base_uri": "https://localhost:8080/"
        },
        "id": "roC_pR1WMv42",
        "outputId": "48d7c8ca-17d7-4e5a-f1e5-4dbdd815d94f"
      },
      "execution_count": null,
      "outputs": [
        {
          "output_type": "stream",
          "name": "stdout",
          "text": [
            "Model: \"sequential_4\"\n",
            "_________________________________________________________________\n",
            " Layer (type)                Output Shape              Param #   \n",
            "=================================================================\n",
            " conv2d_16 (Conv2D)          (None, 198, 198, 16)      448       \n",
            "                                                                 \n",
            " max_pooling2d_16 (MaxPoolin  (None, 99, 99, 16)       0         \n",
            " g2D)                                                            \n",
            "                                                                 \n",
            " conv2d_17 (Conv2D)          (None, 97, 97, 32)        4640      \n",
            "                                                                 \n",
            " max_pooling2d_17 (MaxPoolin  (None, 48, 48, 32)       0         \n",
            " g2D)                                                            \n",
            "                                                                 \n",
            " conv2d_18 (Conv2D)          (None, 46, 46, 64)        18496     \n",
            "                                                                 \n",
            " max_pooling2d_18 (MaxPoolin  (None, 23, 23, 64)       0         \n",
            " g2D)                                                            \n",
            "                                                                 \n",
            " conv2d_19 (Conv2D)          (None, 21, 21, 128)       73856     \n",
            "                                                                 \n",
            " max_pooling2d_19 (MaxPoolin  (None, 10, 10, 128)      0         \n",
            " g2D)                                                            \n",
            "                                                                 \n",
            " conv2d_20 (Conv2D)          (None, 8, 8, 128)         147584    \n",
            "                                                                 \n",
            " max_pooling2d_20 (MaxPoolin  (None, 4, 4, 128)        0         \n",
            " g2D)                                                            \n",
            "                                                                 \n",
            " flatten_4 (Flatten)         (None, 2048)              0         \n",
            "                                                                 \n",
            " dense_8 (Dense)             (None, 512)               1049088   \n",
            "                                                                 \n",
            " dense_9 (Dense)             (None, 3)                 1539      \n",
            "                                                                 \n",
            "=================================================================\n",
            "Total params: 1,295,651\n",
            "Trainable params: 1,295,651\n",
            "Non-trainable params: 0\n",
            "_________________________________________________________________\n"
          ]
        }
      ]
    },
    {
      "cell_type": "code",
      "source": [
        "history=model_age.fit(age,batch_size=10,epochs=25,verbose=1)"
      ],
      "metadata": {
        "colab": {
          "base_uri": "https://localhost:8080/"
        },
        "id": "V_WWKJIlPCOE",
        "outputId": "415c4222-5857-47a9-8fe9-574b570b1dbf"
      },
      "execution_count": null,
      "outputs": [
        {
          "output_type": "stream",
          "name": "stdout",
          "text": [
            "Epoch 1/25\n",
            "99/99 [==============================] - 125s 1s/step - loss: 0.8007 - accuracy: 0.6758\n",
            "Epoch 2/25\n",
            "99/99 [==============================] - 124s 1s/step - loss: 0.6445 - accuracy: 0.7192\n",
            "Epoch 3/25\n",
            "99/99 [==============================] - 124s 1s/step - loss: 0.5796 - accuracy: 0.7545\n",
            "Epoch 4/25\n",
            "99/99 [==============================] - 124s 1s/step - loss: 0.5367 - accuracy: 0.7737\n",
            "Epoch 5/25\n",
            "99/99 [==============================] - 124s 1s/step - loss: 0.4908 - accuracy: 0.7909\n",
            "Epoch 6/25\n",
            "99/99 [==============================] - 124s 1s/step - loss: 0.4389 - accuracy: 0.8202\n",
            "Epoch 7/25\n",
            "99/99 [==============================] - 126s 1s/step - loss: 0.3887 - accuracy: 0.8384\n",
            "Epoch 8/25\n",
            "99/99 [==============================] - 126s 1s/step - loss: 0.3609 - accuracy: 0.8522\n",
            "Epoch 9/25\n",
            "99/99 [==============================] - 124s 1s/step - loss: 0.2593 - accuracy: 0.9013\n",
            "Epoch 10/25\n",
            "99/99 [==============================] - 124s 1s/step - loss: 0.2048 - accuracy: 0.9215\n",
            "Epoch 11/25\n",
            "99/99 [==============================] - 124s 1s/step - loss: 0.1408 - accuracy: 0.9498\n",
            "Epoch 12/25\n",
            "99/99 [==============================] - 126s 1s/step - loss: 0.0933 - accuracy: 0.9697\n",
            "Epoch 13/25\n",
            "99/99 [==============================] - 125s 1s/step - loss: 0.0697 - accuracy: 0.9771\n",
            "Epoch 14/25\n",
            "99/99 [==============================] - 124s 1s/step - loss: 0.0538 - accuracy: 0.9855\n",
            "Epoch 15/25\n",
            "99/99 [==============================] - 124s 1s/step - loss: 0.0441 - accuracy: 0.9872\n",
            "Epoch 16/25\n",
            "99/99 [==============================] - 124s 1s/step - loss: 0.0333 - accuracy: 0.9919\n",
            "Epoch 17/25\n",
            "99/99 [==============================] - 125s 1s/step - loss: 0.1877 - accuracy: 0.9394\n",
            "Epoch 18/25\n",
            "99/99 [==============================] - 123s 1s/step - loss: 0.0401 - accuracy: 0.9882\n",
            "Epoch 19/25\n",
            "99/99 [==============================] - 124s 1s/step - loss: 0.0282 - accuracy: 0.9939\n",
            "Epoch 20/25\n",
            "99/99 [==============================] - 123s 1s/step - loss: 0.0335 - accuracy: 0.9899\n",
            "Epoch 21/25\n",
            "99/99 [==============================] - 122s 1s/step - loss: 0.0247 - accuracy: 0.9933\n",
            "Epoch 22/25\n",
            "99/99 [==============================] - 123s 1s/step - loss: 0.0251 - accuracy: 0.9923\n",
            "Epoch 23/25\n",
            "99/99 [==============================] - 123s 1s/step - loss: 0.0170 - accuracy: 0.9949\n",
            "Epoch 24/25\n",
            "99/99 [==============================] - 123s 1s/step - loss: 0.0190 - accuracy: 0.9943\n",
            "Epoch 25/25\n",
            "99/99 [==============================] - 124s 1s/step - loss: 0.0140 - accuracy: 0.9949\n"
          ]
        }
      ]
    },
    {
      "cell_type": "markdown",
      "source": [
        "Loss plot"
      ],
      "metadata": {
        "id": "r992mIh6M5jD"
      }
    },
    {
      "cell_type": "code",
      "source": [
        "plt.plot(history.history['loss'])\n",
        "plt.title('Loss')\n",
        "plt.xlabel('epochs')\n",
        "plt.ylabel('loss')\n",
        "plt.show()"
      ],
      "metadata": {
        "colab": {
          "base_uri": "https://localhost:8080/",
          "height": 295
        },
        "id": "hNhN-zgfaaWv",
        "outputId": "af67b0cc-5b52-4cf9-bdc7-6b9138e07297"
      },
      "execution_count": null,
      "outputs": [
        {
          "output_type": "display_data",
          "data": {
            "image/png": "[encoded data removed]",
            "text/plain": [
              "<Figure size 432x288 with 1 Axes>"
            ]
          },
          "metadata": {
            "needs_background": "light"
          }
        }
      ]
    },
    {
      "cell_type": "markdown",
      "source": [
        "Accuracy plot"
      ],
      "metadata": {
        "id": "C8uwacLEM7q9"
      }
    },
    {
      "cell_type": "code",
      "source": [
        "plt.plot(history.history['accuracy'])\n",
        "plt.title('Accuracy')\n",
        "plt.xlabel('epochs')\n",
        "plt.ylabel('accuracy')\n",
        "plt.show()"
      ],
      "metadata": {
        "colab": {
          "base_uri": "https://localhost:8080/",
          "height": 295
        },
        "id": "BGsEUm2VWuaN",
        "outputId": "9d0e81af-de8e-46bb-9685-971b96e35be8"
      },
      "execution_count": null,
      "outputs": [
        {
          "output_type": "display_data",
          "data": {
            "image/png": "[encoded data removed]",
            "text/plain": [
              "<Figure size 432x288 with 1 Axes>"
            ]
          },
          "metadata": {
            "needs_background": "light"
          }
        }
      ]
    },
    {
      "cell_type": "code",
      "source": [
        "import pickle\n",
        "with open('Age_model.pkl', 'wb') as file:\n",
        "  pickle.dump(model_age, file)"
      ],
      "metadata": {
        "colab": {
          "base_uri": "https://localhost:8080/"
        },
        "id": "-sHmMziSQYhV",
        "outputId": "1d6c7bb2-7248-4655-80fe-4ad737a1645b"
      },
      "execution_count": null,
      "outputs": [
        {
          "output_type": "stream",
          "name": "stdout",
          "text": [
            "INFO:tensorflow:Assets written to: ram://2f6dd7e5-dedd-4e1f-b0cf-7c3584c460c4/assets\n"
          ]
        }
      ]
    },
    {
      "cell_type": "markdown",
      "source": [
        "Predicting the performance of the model"
      ],
      "metadata": {
        "id": "5jRQ7IW8I8uu"
      }
    },
    {
      "cell_type": "code",
      "source": [
        "from keras.preprocessing.image import img_to_array\n",
        "from PIL import Image\n",
        "import pickle\n",
        "\n",
        "path='/content/drive/MyDrive/dataset/Age dataset/30-50/img_11830.jpg'#The Image was downloaded from the Google for model testing.\n",
        "\n",
        "img=Image.open(path)\n",
        "plt.imshow(img)\n",
        "img=img.resize((200,200))\n",
        "img=img_to_array(img)\n",
        "img=np.expand_dims(img,axis=0)\n",
        "\n",
        "def pred(img):\n",
        "  val=model.predict(img)\n",
        "  if val==0:\n",
        "    print('The person in the image is a man,')\n",
        "  else:\n",
        "    print('The person in the image is a woman,')  \n",
        "  val_1=model_age.predict(img)\n",
        "  if val_1[0][0]==0:\n",
        "    print('with the age between 30-50')\n",
        "  elif val_1[0][0]==1:\n",
        "    print('with the age above 50')\n",
        "  else:\n",
        "    print('with the age below 30')\n",
        "  \n",
        "pred(img)"
      ],
      "metadata": {
        "colab": {
          "base_uri": "https://localhost:8080/",
          "height": 305
        },
        "id": "pllvrA2Ia55y",
        "outputId": "30168a9a-6d41-41bb-bb64-904539778a22"
      },
      "execution_count": null,
      "outputs": [
        {
          "output_type": "stream",
          "name": "stdout",
          "text": [
            "The person in the image is a man,\n",
            "with the age below 30\n"
          ]
        },
        {
          "output_type": "display_data",
          "data": {
            "image/png": "[encoded data removed]",
            "text/plain": [
              "<Figure size 432x288 with 1 Axes>"
            ]
          },
          "metadata": {
            "needs_background": "light"
          }
        }
      ]
    },
    {
      "cell_type": "markdown",
      "source": [
        "alter method of predicting the age and gender"
      ],
      "metadata": {
        "id": "QbUBtFpUfUPy"
      }
    },
    {
      "cell_type": "code",
      "source": [
        "cascpath='/content/drive/MyDrive/dataset/haarcascade_frontalface_alt.xml'\n",
        "facecascade=cv2.CascadeClassifier(cascpath)\n",
        "\n",
        "path='/content/drive/MyDrive/dataset/Age dataset/30-50/img_11830.jpg'\n",
        "img=cv2.imread(path)\n",
        "\n",
        "\n",
        "\n",
        "gray = cv2.cvtColor(img, cv2.COLOR_BGR2GRAY)\n",
        "\n",
        "faces = facecascade.detectMultiScale(gray, 1.1, 4)\n",
        "\n",
        "for (x, y, w, h) in faces:\n",
        "        cv2.rectangle(img, (x, y), (x+w, y+h), (255, 0, 0), 2)\n",
        "font=cv2.FONT_HERSHEY_SIMPLEX\n",
        "color=(255,0,0)\n",
        "fontScale=1\n",
        "org=(200,200)\n",
        "thickness=2\n",
        "\n",
        "from keras.preprocessing.image import img_to_array\n",
        "from PIL import Image\n",
        "i=Image.open(path)\n",
        "plt.imshow(i)\n",
        "i=i.resize((200,200))\n",
        "i=img_to_array(i)\n",
        "i=np.expand_dims(i,axis=0)\n",
        "\n",
        "val=model.predict(i)\n",
        "if val==0:\n",
        "  val='male'\n",
        "else:\n",
        "  val='female'\n",
        "\n",
        "val_1=model_age.predict(i)\n",
        "if val_1[0][0]==0:\n",
        "  val_1= '30-50'\n",
        "elif val_1[0][0]==1:\n",
        "  val_1= '50+'\n",
        "else:\n",
        "  val_1='below 30'\n",
        "\n",
        "\n",
        "label=\"%s,%s\"%(val,val_1)\n",
        "image=cv2.putText(img,label ,org, font,fontScale, color,thickness)\n",
        "\n",
        "plt.imshow(img)"
      ],
      "metadata": {
        "id": "5XAQUrzYJ_fR"
      },
      "execution_count": null,
      "outputs": []
    }
  ]
}